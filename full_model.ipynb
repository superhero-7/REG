{
 "cells": [
  {
   "cell_type": "code",
   "execution_count": 1,
   "metadata": {},
   "outputs": [],
   "source": [
    "coco_id_name_map={1: 'person', 2: 'bicycle', 3: 'car', 4: 'motorcycle', 5: 'airplane',\n",
    "                   6: 'bus', 7: 'train', 8: 'truck', 9: 'boat', 10: 'traffic light',\n",
    "                   11: 'fire hydrant', 12: 'street sign', 13: 'stop sign', 14: 'parking meter', 15: 'bench',\n",
    "                   16: 'bird', 17: 'cat', 18: 'dog', 19: 'horse', 20: 'sheep', 21: 'cow',\n",
    "                   22: 'elephant', 23: 'bear', 24: 'zebra', 25: 'giraffe',26: 'hat', 27: 'backpack',\n",
    "                   28: 'umbrella', 29:'shoe',30:'eye glasses', 31: 'handbag', 32: 'tie', 33: 'suitcase', 34: 'frisbee',\n",
    "                   35: 'skis', 36: 'snowboard', 37: 'sports ball', 38: 'kite', 39: 'baseball bat',\n",
    "                   40: 'baseball glove', 41: 'skateboard', 42: 'surfboard', 43: 'tennis racket',\n",
    "                   44: 'bottle', 45: 'plate', 46: 'wine glass', 47: 'cup', 48: 'fork', 49: 'knife', 50: 'spoon',\n",
    "                   51: 'bowl', 52: 'banana', 53: 'apple', 54: 'sandwich', 55: 'orange',\n",
    "                   56: 'broccoli', 57: 'carrot', 58: 'hot dog', 59: 'pizza', 60: 'donut',\n",
    "                   61: 'cake', 62: 'chair', 63: 'couch', 64: 'potted plant', 65: 'bed',\n",
    "                   66: 'mirror', 67: 'dining table',68: 'window', 69:'desk', 70: 'toilet', \n",
    "                   71: 'door', 72: 'tv', 73: 'laptop', 74: 'mouse', 75: 'remote', 76: 'keyboard',\n",
    "                   77: 'cell phone', 78: 'microwave', 79: 'oven', 80: 'toaster', 81: 'sink',\n",
    "                   82: 'refrigerator',83:'blender', 84: 'book', 85: 'clock', 86: 'vase', 87: 'scissors',\n",
    "                   88: 'teddy bear', 89: 'hair drier', 90: 'toothbrush'}"
   ]
  },
  {
   "cell_type": "code",
   "execution_count": 4,
   "metadata": {},
   "outputs": [
    {
     "data": {
      "text/plain": [
       "'person'"
      ]
     },
     "execution_count": 4,
     "metadata": {},
     "output_type": "execute_result"
    }
   ],
   "source": [
    "coco_id_name_map[1]"
   ]
  },
  {
   "cell_type": "code",
   "execution_count": 5,
   "metadata": {},
   "outputs": [],
   "source": [
    "region_candidates = [{'bounding_box': [24, 284, 72, 122], 'predicted_object_name': 'person'}, {'bounding_box': [426, 18, 187, 234], 'predicted_object_name': 'person'}, {'bounding_box': [206, 464, 297, 147], 'predicted_object_name': 'tv'}, {'bounding_box': [141, 272, 63, 102], 'predicted_object_name': 'person'}, {'bounding_box': [294, -12, 176, 244], 'predicted_object_name': 'person'}, {'bounding_box': [288, 91, 45, 159], 'predicted_object_name': 'bottle'}, {'bounding_box': [287, 293, 206, 156], 'predicted_object_name': 'pizza'}, {'bounding_box': [239, 93, 51, 153], 'predicted_object_name': 'cup'}, {'bounding_box': [77, 294, 46, 80], 'predicted_object_name': 'person'}, {'bounding_box': [180, 350, 73, 80], 'predicted_object_name': 'person'}, {'bounding_box': [33, 83, 129, 166], 'predicted_object_name': 'cup'}, {'bounding_box': [99, 350, 103, 77], 'predicted_object_name': 'person'}, {'bounding_box': [169, 35, 47, 67], 'predicted_object_name': 'tv'}, {'bounding_box': [87, 275, 63, 83], 'predicted_object_name': 'person'}, {'bounding_box': [361, 537, 41, 52], 'predicted_object_name': 'person'}, {'bounding_box': [0, 184, 606, 428], 'predicted_object_name': 'dining table'}, {'bounding_box': [223, 296, 32, 64], 'predicted_object_name': 'person'}, {'bounding_box': [169, 35, 47, 67], 'predicted_object_name': 'person'}, {'bounding_box': [289, 282, 204, 167], 'predicted_object_name': 'sandwich'}, {'bounding_box': [254, 116, 37, 88], 'predicted_object_name': 'person'}, {'bounding_box': [239, 17, 83, 218], 'predicted_object_name': 'bottle'}, {'bounding_box': [14, 87, 51, 93], 'predicted_object_name': 'chair'}, {'bounding_box': [175, 283, 70, 90], 'predicted_object_name': 'person'}, {'bounding_box': [303, 521, 17, 22], 'predicted_object_name': 'cup'}, {'bounding_box': [235, 522, 33, 41], 'predicted_object_name': 'person'}, {'bounding_box': [163, 306, 85, 68], 'predicted_object_name': 'potted plant'}, {'bounding_box': [215, 290, 35, 58], 'predicted_object_name': 'cat'}, {'bounding_box': [303, 521, 17, 22], 'predicted_object_name': 'bottle'}, {'bounding_box': [302, 310, 275, 159], 'predicted_object_name': 'dining table'}, {'bounding_box': [254, 116, 37, 88], 'predicted_object_name': 'bottle'}]"
   ]
  },
  {
   "cell_type": "code",
   "execution_count": 10,
   "metadata": {},
   "outputs": [],
   "source": [
    "import random\n",
    "region_candidates = random.choice(region_candidates)"
   ]
  },
  {
   "cell_type": "code",
   "execution_count": 12,
   "metadata": {},
   "outputs": [
    {
     "data": {
      "text/plain": [
       "{'bounding_box': [289, 282, 204, 167], 'predicted_object_name': 'sandwich'}"
      ]
     },
     "execution_count": 12,
     "metadata": {},
     "output_type": "execute_result"
    }
   ],
   "source": [
    "region_candidates"
   ]
  },
  {
   "cell_type": "code",
   "execution_count": null,
   "metadata": {},
   "outputs": [],
   "source": []
  }
 ],
 "metadata": {
  "kernelspec": {
   "display_name": "Python 3",
   "language": "python",
   "name": "python3"
  },
  "language_info": {
   "codemirror_mode": {
    "name": "ipython",
    "version": 3
   },
   "file_extension": ".py",
   "mimetype": "text/x-python",
   "name": "python",
   "nbconvert_exporter": "python",
   "pygments_lexer": "ipython3",
   "version": "3.8.5"
  }
 },
 "nbformat": 4,
 "nbformat_minor": 4
}
