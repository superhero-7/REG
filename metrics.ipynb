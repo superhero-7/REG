{
 "cells": [
  {
   "cell_type": "code",
   "execution_count": 6,
   "metadata": {},
   "outputs": [
    {
     "name": "stdout",
     "output_type": "stream",
     "text": [
      "loading dataset into memory...\n",
      "creating index...\n",
      "index created.\n",
      "DONE (t=3.49s)\n",
      "loading dataset into memory...\n",
      "creating index...\n",
      "index created.\n",
      "DONE (t=0.25s)\n",
      "Using cuda\n",
      "Using cuda\n",
      "Using cuda\n",
      "Freeze image network weights\n"
     ]
    }
   ],
   "source": [
    "#先test产生outputs\n",
    "from baseline import LanguagePlusImage\n",
    "from Config import Config\n",
    "from data import ReferExpressionDataset\n",
    "from refer import REFER\n",
    "\n",
    "use_train_dataset = False\n",
    "\n",
    "cfg = Config()\n",
    "refer = REFER(cfg, train=True)\n",
    "refer_val = REFER(cfg, False)\n",
    "\n",
    "dataset = ReferExpressionDataset(cfg, refer, split=False) # 用来训练的bbb\n",
    "val_dataset = ReferExpressionDataset(cfg, refer_val) # 用来验证的\n",
    "#test_dataset = ReferExpressionDataset(cfg, refer, split=True, test=True)\n",
    "test_dataset = ReferExpressionDataset(cfg, refer_val, test=True)\n",
    "test_train_dataset = ReferExpressionDataset(cfg, refer, test=True,split=False) # 用训练数据测试看看，安慰自己\n",
    "model = LanguagePlusImage(cfg)"
   ]
  },
  {
   "cell_type": "code",
   "execution_count": 11,
   "metadata": {},
   "outputs": [
    {
     "name": "stdout",
     "output_type": "stream",
     "text": [
      "=> loading checkpoint 'checkpoints/default.mdl.checkpoint119'\n",
      "=> loaded checkpoint 'checkpoints/default.mdl.checkpoint119' (epoch 119)\n"
     ]
    }
   ],
   "source": [
    "checkpt_file = 'checkpoints/default.mdl.checkpoint119'\n",
    "model.load_model(checkpt_file)"
   ]
  },
  {
   "cell_type": "code",
   "execution_count": 12,
   "metadata": {},
   "outputs": [
    {
     "name": "stderr",
     "output_type": "stream",
     "text": [
      "Test None:   2%|█▎                                                                  | 101/5000 [00:22<17:52,  4.57it/s]\n"
     ]
    }
   ],
   "source": [
    "if use_train_dataset:\n",
    "    outputs = model.run_test(test_train_dataset)\n",
    "else:\n",
    "    outputs = model.run_test(test_dataset)"
   ]
  },
  {
   "cell_type": "code",
   "execution_count": 15,
   "metadata": {},
   "outputs": [],
   "source": [
    "import numpy as np\n",
    "\n",
    "a = np.array(outputs)\n",
    "np.save('a.npy',a)"
   ]
  },
  {
   "cell_type": "code",
   "execution_count": 13,
   "metadata": {},
   "outputs": [],
   "source": [
    "references = []\n",
    "hypothesis = []\n",
    "\n",
    "for output in outputs:\n",
    "    for \n",
    "    \n",
    "    references.append([output['gt_sentence']])\n",
    "    hypothesis.append(output['gen_sentence'])\n",
    "    \n",
    "from nlgeval import NLGEval\n",
    "\n",
    "nlgeval = NLGEval(no_skipthoughts=True, no_glove=True, metrics_to_omit=['METEOR'])  # loads the models\n",
    "metrics_dict = nlgeval.compute_metrics(references, hypothesis)"
   ]
  },
  {
   "cell_type": "code",
   "execution_count": 10,
   "metadata": {},
   "outputs": [
    {
     "data": {
      "text/plain": [
       "{'Bleu_1': 0.09357329512522382,\n",
       " 'Bleu_2': 0.04176262429042652,\n",
       " 'Bleu_3': 1.4485904695573636e-07,\n",
       " 'Bleu_4': 2.908932060378355e-10,\n",
       " 'ROUGE_L': 0.17300073748486638,\n",
       " 'CIDEr': 0.20285060618341663}"
      ]
     },
     "execution_count": 10,
     "metadata": {},
     "output_type": "execute_result"
    }
   ],
   "source": [
    "metrics_dict # 65"
   ]
  },
  {
   "cell_type": "code",
   "execution_count": 14,
   "metadata": {},
   "outputs": [
    {
     "data": {
      "text/plain": [
       "{'Bleu_1': 0.25265553869480073,\n",
       " 'Bleu_2': 0.15186549622392398,\n",
       " 'Bleu_3': 0.09693826391151146,\n",
       " 'Bleu_4': 0.06344456533525081,\n",
       " 'ROUGE_L': 0.28874484558129865,\n",
       " 'CIDEr': 0.6578500025909776}"
      ]
     },
     "execution_count": 14,
     "metadata": {},
     "output_type": "execute_result"
    }
   ],
   "source": [
    "metrics_dict # 119"
   ]
  },
  {
   "cell_type": "code",
   "execution_count": null,
   "metadata": {},
   "outputs": [],
   "source": []
  }
 ],
 "metadata": {
  "kernelspec": {
   "display_name": "Python 3",
   "language": "python",
   "name": "python3"
  },
  "language_info": {
   "codemirror_mode": {
    "name": "ipython",
    "version": 3
   },
   "file_extension": ".py",
   "mimetype": "text/x-python",
   "name": "python",
   "nbconvert_exporter": "python",
   "pygments_lexer": "ipython3",
   "version": "3.8.5"
  }
 },
 "nbformat": 4,
 "nbformat_minor": 4
}
